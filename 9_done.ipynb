{
  "cells": [
    {
      "cell_type": "markdown",
      "metadata": {
        "id": "view-in-github",
        "colab_type": "text"
      },
      "source": [
        "<a href=\"https://colab.research.google.com/github/knana6/Bigdata/blob/main/9_done.ipynb\" target=\"_parent\"><img src=\"https://colab.research.google.com/assets/colab-badge.svg\" alt=\"Open In Colab\"/></a>"
      ]
    },
    {
      "cell_type": "code",
      "execution_count": null,
      "metadata": {
        "colab": {
          "base_uri": "https://localhost:8080/"
        },
        "id": "T3AKpRK69ZVN",
        "outputId": "52f7f5cd-5ca6-4bf5-9b05-6b388b0f526b"
      },
      "outputs": [
        {
          "name": "stdout",
          "output_type": "stream",
          "text": [
            "Hello World\n"
          ]
        }
      ],
      "source": [
        "print(\"Hello World\")"
      ]
    },
    {
      "cell_type": "code",
      "execution_count": null,
      "metadata": {
        "colab": {
          "background_save": true
        },
        "id": "he96VrNp9IJd",
        "outputId": "5f21905c-a96e-4e30-d60d-f994f998b520"
      },
      "outputs": [
        {
          "name": "stdout",
          "output_type": "stream",
          "text": [
            "Drive already mounted at /content/drive; to attempt to forcibly remount, call drive.mount(\"/content/drive\", force_remount=True).\n"
          ]
        }
      ],
      "source": [
        "from google.colab import drive\n",
        "drive.mount('/content/drive')"
      ]
    },
    {
      "cell_type": "code",
      "execution_count": null,
      "metadata": {
        "colab": {
          "background_save": true
        },
        "id": "WOqju_fOB8HY",
        "outputId": "51e8c1a6-0d30-42b7-cb4b-7dfb8c720782"
      },
      "outputs": [
        {
          "name": "stdout",
          "output_type": "stream",
          "text": [
            "   id  nclass  math  english  science\n",
            "0   1       1    50       98       50\n",
            "1   2       1    60       97       60\n",
            "2   3       1    45       86       78\n",
            "3   4       1    30       98       58\n",
            "4   5       2    25       80       65\n"
          ]
        }
      ],
      "source": [
        "import pandas as pd\n",
        "exam_data = pd.read_excel('/content/drive/MyDrive/Colab Notebooks/excel_exam.xlsx')\n",
        "print(exam_data.head())"
      ]
    },
    {
      "cell_type": "code",
      "execution_count": null,
      "metadata": {
        "colab": {
          "background_save": true
        },
        "id": "6b3ouVz-DtAF",
        "outputId": "795e088b-e689-4ede-e7e7-620c816e98b2"
      },
      "outputs": [
        {
          "data": {
            "text/plain": [
              "<Axes: >"
            ]
          },
          "execution_count": 4,
          "metadata": {},
          "output_type": "execute_result"
        },
        {
          "data": {
            "image/png": "[encoded data removed]",
            "text/plain": [
              "<Figure size 640x480 with 1 Axes>"
            ]
          },
          "metadata": {},
          "output_type": "display_data"
        }
      ],
      "source": [
        "import seaborn\n",
        "seaborn.scatterplot()"
      ]
    },
    {
      "cell_type": "code",
      "execution_count": null,
      "metadata": {
        "colab": {
          "background_save": true
        },
        "id": "c2MeqadqPKOC",
        "outputId": "bf1fb9a5-b32b-49b8-e8e1-3bc676e79b5f"
      },
      "outputs": [
        {
          "ename": "SyntaxError",
          "evalue": "invalid syntax. Maybe you meant '==' or ':=' instead of '='? (ipython-input-1460538403.py, line 2)",
          "output_type": "error",
          "traceback": [
            "\u001b[0;36m  File \u001b[0;32m\"/tmp/ipython-input-1460538403.py\"\u001b[0;36m, line \u001b[0;32m2\u001b[0m\n\u001b[0;31m    a=0, b=1\u001b[0m\n\u001b[0m    ^\u001b[0m\n\u001b[0;31mSyntaxError\u001b[0m\u001b[0;31m:\u001b[0m invalid syntax. Maybe you meant '==' or ':=' instead of '='?\n"
          ]
        }
      ],
      "source": [
        "def f(max_num):\n",
        "  a=0, b=1\n",
        "  max_num=a+b\n",
        "  return max_num\n",
        "\n",
        "\n",
        "for n in f(1000):\n",
        "  print(n)"
      ]
    },
    {
      "cell_type": "markdown",
      "metadata": {
        "id": "AqMVXAIRbAdr"
      },
      "source": [
        "## 9_10 데이터분석 (pandas 맛보기)"
      ]
    },
    {
      "cell_type": "code",
      "execution_count": null,
      "metadata": {
        "colab": {
          "background_save": true
        },
        "id": "4vfc8vD8bvFI"
      },
      "outputs": [],
      "source": [
        "# 직접 업로드\n",
        "from google.colab import files\n",
        "uploaded= files.upload()\n",
        "path='/content/exam.csv'"
      ]
    },
    {
      "cell_type": "code",
      "execution_count": null,
      "metadata": {
        "colab": {
          "background_save": true
        },
        "id": "Sw18_vgKat-s"
      },
      "outputs": [],
      "source": [
        "with open (path,\"r\",encoding=\"utf-8\") as f:\n",
        "  lines= f.read().strip().splitlines()\n",
        "# splitlines ()는 한줄씩 읽는다는\n",
        "\n",
        "print(lines)\n"
      ]
    },
    {
      "cell_type": "code",
      "execution_count": null,
      "metadata": {
        "colab": {
          "background_save": true
        },
        "id": "G66nl2vFS8eJ"
      },
      "outputs": [],
      "source": []
    },
    {
      "cell_type": "markdown",
      "metadata": {
        "id": "v4WkGPqh-_Db"
      },
      "source": [
        "### 9_15. 라이브러리 이용하기"
      ]
    },
    {
      "cell_type": "markdown",
      "metadata": {
        "id": "Bh6kuCym_Qbo"
      },
      "source": [
        "\n",
        "\n",
        "점점 쉬운 라이브러리로 공부하가\n",
        "저번시간: exam.csv 파일열기 ; open(경로, \"r\",encoding) as f\n",
        "lines = f.read().strip().\n",
        "* 파싱: 줄별로 데이터를 분류하고, list 속 문자열을 숫자로 바꾸는것\n",
        "* column = 가로, row= 세로\n",
        "\n",
        "-\n",
        "<CSV 패키지= 파일 읽기 + 파싱 +구조화>\n",
        "reader= csv.DictReader(f) ; 헤더 자동인식\n",
        "for row in reader : ; 타입 변환까지 수행\n",
        "\n",
        "-\n",
        "<Numpy 패키지= 파일 읽기+ 파싱+ 구조화+ 평균구하기>\n",
        "* csv; comma 기준\n",
        "\n",
        "-\n",
        "라이브러리 쓸때 주의점; 어떻게 돌아가는지 이해를 해야함 & 도큐먼트 보는 습관 (?)"
      ]
    },
    {
      "cell_type": "code",
      "execution_count": null,
      "metadata": {
        "colab": {
          "background_save": true
        },
        "id": "Ixz1Lzj6_Int"
      },
      "outputs": [],
      "source": [
        "## 파일 업로드 또는 코랩 마운트\n",
        "\n",
        "from google.colab import drive\n",
        "drive.mount('/content/drive')\n",
        "\n",
        "## 파이썬 노가다로 풀기\n",
        "\n",
        "## CSV 패키지로 풀기  >> 영상보고 이정도는 따라치고 이해하기\n",
        "\n",
        "## NUMPY 패키지로 풀기\n",
        " for c in np.unique ; key 값이 반한됨\n",
        " np.mean ; 평균 구하는거\n",
        "\n",
        "\n",
        "## Pandas 패키지로 풀기\n",
        "* df = dataframe 약어\n",
        "\n",
        "df= pd.reac_csv(path, encoding=\"\")\n",
        "print(df.head)\n",
        "\n",
        "print(\"\\n==pandas Means==\")\n",
        "print(df[[\"math\",\"englesh\",'science']].mwan())\n",
        "\n",
        "~Nclass 쓰는거 (밑에보시 3차시 마지막장)"
      ]
    },
    {
      "cell_type": "markdown",
      "metadata": {
        "id": "msfB9LNsF0S1"
      },
      "source": [
        "## 4-1. 데이터 변환"
      ]
    },
    {
      "cell_type": "markdown",
      "metadata": {
        "id": "wF8muc_RGGrF"
      },
      "source": [
        "### 데이터 프레임 만들기, 데이터 파악하기, 데이터 변환\n"
      ]
    },
    {
      "cell_type": "markdown",
      "metadata": {
        "id": "G_FJixe8GRFF"
      },
      "source": [
        "* pandas; 딕셔너리 2차원 데이터프레임 만들기, 조작 등 유용\n",
        "* pandas 의 기본 라이브러리= Numpy\n",
        "\n",
        "(예)\n",
        "이름  영어점수 수학점수\n",
        "애니 95 85\n",
        "타잔 85 100\n",
        "\n",
        "*여기에는 인덱스가 숨겨져있다.\n",
        "첫번째줄은 딕셔너리의 key값,\n",
        "맨 왼쪽줄에 index 숨겨졌다고 생각-> 0 1 2..\n",
        "\n",
        "\n",
        "Data[\"이름\"][0] --> 애니"
      ]
    },
    {
      "cell_type": "code",
      "execution_count": null,
      "metadata": {
        "colab": {
          "background_save": true
        },
        "id": "qMAGL4-Gcs_w"
      },
      "outputs": [],
      "source": [
        "import pandas as pd\n",
        "\n",
        "Data={\n",
        "    \"이름\":[\"애니\",\"타잔\",\"베일리\"],\n",
        "    \"영어 점수\":[95, 85, 87],\n",
        "    \"수학 점수\":[85,100,89]\n",
        "}\n",
        "\n",
        "df=pd.DataFrame(Data)   # pandas 라이브러리 dataframe에 넣기\n",
        "\n",
        "pd.DataFrame(\n",
        "    data=None,\n",
        "    index=None, #행 라벨\n",
        "    columns=None, # 열 라벨\n",
        "    dtype=None,\n",
        "    copy=False)\n",
        "\n",
        "  # 실시간으로 row 를 주는방식이 일반적-> append 하면 됨\n",
        "\n",
        "\n",
        "# header 이 없을때???\n",
        "pd.read_excel( path, header=None) ; 헤더 없을때 row 채워줌\n",
        "df.to_csv('output.csv', index=False ) ;csv 로 내보내기\n",
        "\n",
        "## 함수랑 메서드를 구분할 필요가 없따."
      ]
    },
    {
      "cell_type": "markdown",
      "metadata": {
        "id": "PoYZ8J98DBDt"
      },
      "source": [
        "### 3주차 데이터 노가다 변환"
      ]
    },
    {
      "cell_type": "code",
      "execution_count": null,
      "metadata": {
        "colab": {
          "background_save": true
        },
        "id": "IkJu5JA-DHcI"
      },
      "outputs": [],
      "source": [
        "# 컬럼별 자료\n",
        "\n",
        "import pandas as pd\n",
        "\n",
        "data= {\"이름\":[\"애니\",\"타잔\",\"베일리\"],\n",
        "      \"영어\":[93,94,39],\n",
        "      \"수학\":[2,29,39]} #02라고 쓰면, 앞에 0을 쓰면 자동으로 8진수로 해석하는 오류\n",
        "df=pd.DataFrame(data)\n",
        "\n",
        "df"
      ]
    },
    {
      "cell_type": "code",
      "execution_count": null,
      "metadata": {
        "colab": {
          "background_save": true
        },
        "id": "JDDfnTkEFsnP"
      },
      "outputs": [],
      "source": [
        "#row별 자료\n",
        "\n",
        "import pandas as pd\n",
        "\n",
        "rows=[\n",
        "    {\"이름\":\"애니\",\"영어\":93,\"수학\":2},\n",
        "    {\"이름\":\"타잔\",\"영어\":94,\"수학\":29},\n",
        "    {\"이름\":\"베일리\",\"영어\":39,\"수학\":39}\n",
        "]\n",
        "\n",
        "dff=pd.DataFrame(rows)\n",
        "\n",
        "dff"
      ]
    },
    {
      "cell_type": "code",
      "execution_count": null,
      "metadata": {
        "colab": {
          "background_save": true
        },
        "id": "JM2s9AoTGA_N"
      },
      "outputs": [],
      "source": [
        "### 데이터 row가 없을때 (컬럼이름이 없을떄)\n",
        "\n",
        "import pandas as pd\n",
        "\n",
        "M=[[95,85],[85,100],[87,89]]\n",
        "\n",
        "dfff=pd.DataFrame(M, columns=[\"영어\",\"수학\"], index=[\"애니\",\"타잔\",\"베일리\"])\n",
        "\n",
        "dfff"
      ]
    },
    {
      "cell_type": "code",
      "execution_count": null,
      "metadata": {
        "colab": {
          "background_save": true
        },
        "id": "nUmC6cz0Gk17"
      },
      "outputs": [],
      "source": [
        "### DataFrame 으로 분석\n",
        "\n",
        "import pandas as pd\n",
        "\n",
        "data= {\"이름\":[\"애니\",\"타잔\",\"베일리\"],\n",
        "       \"영어\":[95,85,87],\n",
        "       \"수학\":[85,100,95] }\n",
        "df= pd.DataFrame (data)\n",
        "\n",
        "sum_eng= sum(df['영어'])\n",
        "sum_math=sum(df['수학'])\n",
        "\n",
        "avg_eng=sum_eng /len(df['영어'])\n",
        "avg_math=sum_math /len(df['수학'])\n",
        "\n",
        "print(avg_eng)\n",
        "print(avg_math)"
      ]
    },
    {
      "cell_type": "markdown",
      "metadata": {
        "id": "potdDyyLHyC_"
      },
      "source": [
        "### 4-2.데이터 파악하기\n",
        "```\n",
        "pandas의 다양한 명령어\n",
        "* 변수명.head(n) - 데이터 프레임 상위 n개의 행을 출력 , 잘 저장되었는지 상위 5개 (기볹값 n=5) 행만 출력\n",
        "* 변수명. tail(n) - 데이터 프레임 하위 n개의 행을 출력\n",
        "pd.tail(df,n=5) 랑 df.tail() 은 다름\n",
        "\n",
        "pd.tail()은 pandas 의 기본함수 (매서드)\n",
        "df.tail()은 DataFrame 클래스 안의 함수 (매서드)\n",
        "\n",
        "이유- df는 객체임. (DataFrame 클래스의 객체)\n",
        "\n",
        "* 변수명. shape - shape는 메서드가 아니라 속성 / 데이터프레임 (행 개수, 열 개수) 반환\n",
        "\n",
        "* 변수명. info() - class 정보, 전체 행의 개수, 칼럼의 수, 각 칼럼의 속성 (번호, 속성, 개수, 빈칸 아니다, 데이터 타입 정수 int 문자열 object 시간 time) , 데이터 타입, 메모리 사용량\n",
        "\n",
        "* 변수명. describe() - 최소 최대 상위 25%, 하위 25% 등 기초적인 통계/ 수치 알려줌\n",
        "\n",
        "* 변수명. describe(include='all') - 문자열 통계 (이름 쓰인 횟수 같은거) / 문자열 빈도. Count 빈도 Unique 중복제거 범주개수 Top 빈도 가장많이 Freq 빈도 가장많이 나온 범주개수"
      ]
    },
    {
      "cell_type": "code",
      "execution_count": null,
      "metadata": {
        "colab": {
          "background_save": true
        },
        "id": "N7wOPpItRtra"
      },
      "outputs": [],
      "source": [
        "from google.colab import drive\n",
        "drive.mount('/content/drive')"
      ]
    },
    {
      "cell_type": "code",
      "execution_count": null,
      "metadata": {
        "colab": {
          "background_save": true
        },
        "id": "Pn_8NBUwZU8Z"
      },
      "outputs": [],
      "source": [
        "import pandas as pd\n",
        "path='/content/drive/MyDrive/Colab Notebooks/mpg.csv'\n",
        "mpg=pd.read_csv(path)\n",
        "mpg.head()\n",
        "# 자동차별 제조년도, 모델별 연비 (mpg) 데이터, 사이즈 등"
      ]
    },
    {
      "cell_type": "code",
      "execution_count": null,
      "metadata": {
        "colab": {
          "background_save": true
        },
        "id": "BJBNROLQZU-_"
      },
      "outputs": [],
      "source": [
        "# 컬럼의 개수와 이름 구하기\n",
        "mpg.info()\n",
        "\n",
        "#데이터의 개수\n",
        "mpg.shape\n",
        "\n",
        "#각 컬럼별 데이터 타입\n",
        "mpg.describe(include='all')\n",
        "\n",
        "#자동차 제조회사\n"
      ]
    },
    {
      "cell_type": "markdown",
      "metadata": {
        "id": "M4uVEv1VB_bt"
      },
      "source": [
        "# 9_22.데이터 변환"
      ]
    },
    {
      "cell_type": "markdown",
      "metadata": {
        "id": "_4Lg6NscCMsN"
      },
      "source": [
        "* Column 이름 바꾸기\n",
        " - rename() ; 컬럼 이름 바꾸는함수\n",
        " - 데이터 프레임 복사본 만들기 ; 복사본을 만들어야 원본 데이터가 유지됨\n",
        " -.copy ()\n",
        " df_new=df.copy()\n",
        "\n",
        " -> 실습; mpg.csv의 컬럼명 오류 바꿔보기\n",
        "\n",
        " * 파생변수 ; 기존의 변수를 변형해 만든 변수\n",
        "\n",
        " -> 파생변수 만들어보기\n",
        " 변수명['칼럼명'] 하면 칼럼 통째로 접근가능\n",
        " df_raw['sum']=df_raw['var1']+df_raw['var2']\n",
        "\n",
        " ->실습으로 통합연비구하기\n",
        "\n",
        " *pandas 는 numpy기반으로\n",
        " numpy.where(조건문, 조건맞을때, 조건아닐때) -> 자동으로 list 다 돈다.-반복문은 안헤도 ok\n",
        " - pandas 에서 파생변수 쓸때\n",
        " - .value_counts() ; 함수로 빈도수 계산\n",
        " - ,plot.bar() ;그래프 싈시"
      ]
    },
    {
      "cell_type": "code",
      "execution_count": null,
      "metadata": {
        "colab": {
          "background_save": true
        },
        "id": "jp9N7w_uCMD7"
      },
      "outputs": [],
      "source": [
        "#실습1\n",
        "\n",
        "# 직접 업로드\n",
        "from google.colab import files\n",
        "uploaded= files.upload()\n",
        "path='/content/mpg.csv'   #이게 가상환경인지 질문 >>맞다"
      ]
    },
    {
      "cell_type": "code",
      "execution_count": null,
      "metadata": {
        "colab": {
          "background_save": true
        },
        "id": "bxHJ9kdlD6xr"
      },
      "outputs": [],
      "source": [
        "# 분석패키지\n",
        "\n",
        "import pandas as pd\n",
        "path='/content/mpg (1).csv'\n",
        "df=pd.read_csv(path)\n",
        "\n",
        "df_raw=df.copy()\n",
        "\n",
        "df_new=df_raw.copy()\n",
        "\n",
        "df_new=df_new.rename(columns={'cty':'city'})\n",
        "df_new=df_new.rename(columns={'hwy':'highway'})\n",
        "\n",
        "df_new"
      ]
    },
    {
      "cell_type": "code",
      "execution_count": null,
      "metadata": {
        "colab": {
          "background_save": true
        },
        "id": "j8j2UkMaFhVc"
      },
      "outputs": [],
      "source": [
        "#통합연비 구하기\n",
        "\n",
        "df_new['sum']=df_new['city']+df_new['highway']\n",
        "df_new"
      ]
    },
    {
      "cell_type": "code",
      "execution_count": null,
      "metadata": {
        "colab": {
          "background_save": true
        },
        "id": "BXNHcY-OIt7h"
      },
      "outputs": [],
      "source": [
        "#파생변수 만들기\n",
        "#numpy.where(조건, 맞을때, 틀릴때 부여)\n"
      ]
    },
    {
      "cell_type": "markdown",
      "metadata": {
        "id": "jWK-Vu95NiI7"
      },
      "source": []
    },
    {
      "cell_type": "markdown",
      "metadata": {
        "id": "aXaDUh5fI0kJ"
      },
      "source": [
        "* 목록에 대당하는 행으로 변수 만들기\n",
        "- .isin(LIST) ; 해당 list 에 값이 있으면 t,없으면 false\n",
        "\n",
        "mpg['size']=np.where(조건문, 'small',large')\n"
      ]
    },
    {
      "cell_type": "code",
      "execution_count": null,
      "metadata": {
        "colab": {
          "background_save": true
        },
        "id": "svz8yv6FKgY4"
      },
      "outputs": [],
      "source": []
    },
    {
      "cell_type": "code",
      "execution_count": null,
      "metadata": {
        "colab": {
          "background_save": true
        },
        "id": "EFB3KiqROJUL"
      },
      "outputs": [],
      "source": []
    },
    {
      "cell_type": "markdown",
      "metadata": {
        "id": "k6ZIGFYnOKi7"
      },
      "source": [
        "## 데이터 가공"
      ]
    },
    {
      "cell_type": "markdown",
      "metadata": {
        "id": "W49xumNmOO54"
      },
      "source": [
        "* query(조건문) - 조건맞는거만 추출\n",
        "exam.query('nclass ==1')   o 따옴표안에 조건문있어야함\n",
        "exam.query(nclass ==1)   x\n",
        "exam.query('nclass' ==1)    x\n",
        "\n",
        "* 햇님반에 해당하는 성적만?\n",
        "exam.query('nclass=='햇님'\")  o 햇님은 문자열처리\n",
        "-> 따옴표안에 조건문을 그냥쓰면됨\n",
        "\n",
        "* 1분만만 제외하고 보고싶음\n",
        "exam.query('nclass != 1')\n",
        "\n"
      ]
    },
    {
      "cell_type": "code",
      "execution_count": null,
      "metadata": {
        "colab": {
          "background_save": true
        },
        "id": "UafbJq76QGqi"
      },
      "outputs": [],
      "source": [
        "#수학점수가 80점 이상이면서 홀수반에 해당\n",
        "\n",
        "import pandas as pd\n",
        "from google.colab import files\n",
        "uploaded= files.upload()\n",
        "path='/content/exam.csv'\n",
        "exam=pd.read_csv(path)\n",
        "\n"
      ]
    },
    {
      "cell_type": "code",
      "execution_count": null,
      "metadata": {
        "colab": {
          "background_save": true
        },
        "id": "w4jvdGWUR2xV"
      },
      "outputs": [],
      "source": [
        "exam.query('math >= 80 & nclass%2 != 0')\n"
      ]
    },
    {
      "cell_type": "code",
      "execution_count": null,
      "metadata": {
        "colab": {
          "background_save": true
        },
        "id": "o91MSdscT6Ci"
      },
      "outputs": [],
      "source": []
    },
    {
      "cell_type": "markdown",
      "metadata": {
        "id": "83N4zg9IT7Ut"
      },
      "source": [
        "# 9_24.데이터 변환(2)"
      ]
    },
    {
      "cell_type": "markdown",
      "metadata": {
        "id": "sMHV2hu2UPwj"
      },
      "source": []
    },
    {
      "cell_type": "code",
      "execution_count": null,
      "metadata": {
        "colab": {
          "background_save": true
        },
        "id": "QKnzBs_HUkYd"
      },
      "outputs": [],
      "source": [
        "import pandas as pd\n",
        "from google.colab import files\n",
        "uploaded= files.upload()"
      ]
    },
    {
      "cell_type": "code",
      "execution_count": null,
      "metadata": {
        "colab": {
          "background_save": true
        },
        "collapsed": true,
        "id": "rpCGRmEyUp7H"
      },
      "outputs": [],
      "source": [
        "path='/content/midwest.csv'\n",
        "midwest=pd.read_csv(path)\n",
        "\n",
        "midwest.shape\n",
        "midwest.info()\n",
        "midwest.describe()"
      ]
    },
    {
      "cell_type": "code",
      "execution_count": null,
      "metadata": {
        "colab": {
          "background_save": true
        },
        "collapsed": true,
        "id": "nBCNFPGPVP3_"
      },
      "outputs": [],
      "source": [
        "midwest=midwest.rename(columns={'popasian':'asian'})\n",
        "midwest"
      ]
    },
    {
      "cell_type": "code",
      "execution_count": null,
      "metadata": {
        "colab": {
          "background_save": true
        },
        "collapsed": true,
        "id": "PVXNEIr0Vxbc"
      },
      "outputs": [],
      "source": [
        "import numpy as np\n",
        "mean=midwest['ratio'].mean()  #평균값을 mean 에 담았음. 나중에 변수로 호출해야함\n",
        "midwest['group']=np.where(midwest['ratio']>mean,'high','low')\n",
        "midwest\n",
        " # 저번시간 실습 5문항 있는거 코드 따라치기"
      ]
    },
    {
      "cell_type": "markdown",
      "metadata": {
        "id": "-LN8ydnuWN-E"
      },
      "source": [
        "## 데이터 가공\n",
        "\n",
        "* query() -행 추출\n",
        "  * query: 질문\n",
        "  * return '답변'\n",
        "  * 데이터는 행을 추출\n",
        "  * (예) query('nclass ==1') 인 행들 추출\n",
        "  * string 처리를 잘해야함 'nclass='햇님''\n",
        "* data_frame['column'] -열(변수) 추출\n",
        "  *exam['math']- 해당열만 추출\n",
        "  *exam['nclass','math','english']가 아니라\n",
        "  *exam[['nclass','math','english']]\n",
        "  *column은 list 형태여야 한다.\n",
        "  *a= exam.drop(columns='변수명') - 필요없는 변수제거 (행)\n",
        "  * 여러 컬럼 drop 하고싶으면 list\n",
        "  * 할당을 해야 (a) 꺼내쓰기 가능\n",
        "\n",
        "* .sort_values() -정렬\n",
        "  * exam.sort_values('math')\n",
        "  * 기본적으로 오름차순으로 정렬\n",
        "  * 내림차순: ;exam.sort_values('math', ascending=False)\n",
        "  * exam.sort_values(['nclass','math'],ascending=['True','False']) ; 왼쪽껀 참 오른쪽은 거짓인거 정렬\n",
        "  *파생변수 추가하기\n",
        "    * .assign(새 변수명=변수만드는 수식)\n",
        "    * exam.assign{total}=exam['math']  ++\n",
        "    *여러 파생 변수를 귑게 할당할 수 있다.\n",
        "\n",
        "* groupby() -집단별로 나누기\n",
        "  * exam.groupby('nclass').agg(mean_math=('math','mean'))\n",
        "  * 그냥 앞에 써주기가 groupby\n",
        "\n",
        "* assign() -변수 추가\n",
        "* agg() -aggregation 통계치 구하기\n",
        "  * 외부의 사용자 정의함수를 사용가능\n",
        "  * def 한 함수를 exam.agg(mathh=('math','정의한함수'))\n",
        "  * agg(count) 는 데이터의 개수를 세는거임- 다른거의 개수세는게 아님\n",
        "\n",
        "* merge() -데이터 합치기 (열)\n",
        "  * pd.merge() --pandas 내장함수\n",
        "  * merge(Dataframe,Dataframe,how,on)\n",
        "  * how = left나 right (를 붙이는것)\n",
        "\n",
        "* concat() -데이터 합치기 (행)\n",
        "  * pd.concat() --pandas 내장함수\n",
        "\n",
        "### 데이터 추출\n",
        "\n",
        "\n",
        "\n",
        "###데이터 정렬\n",
        "\n",
        "### 데이터 요약"
      ]
    },
    {
      "cell_type": "code",
      "execution_count": null,
      "metadata": {
        "colab": {
          "background_save": true
        },
        "id": "RgEHZPJVZcA6"
      },
      "outputs": [],
      "source": [
        "import pandas as pd\n",
        "from google.colab import files\n",
        "uploaded= files.upload()"
      ]
    },
    {
      "cell_type": "code",
      "execution_count": null,
      "metadata": {
        "colab": {
          "background_save": true
        },
        "collapsed": true,
        "id": "B6PtCdqsZrSC"
      },
      "outputs": [],
      "source": [
        "path='/content/exam.csv'\n",
        "exam=pd.read_csv(path)\n",
        "#1반의 영어점수 추출\n",
        "exam.query('nclass==1')['english']   #행과열을 추출할떄는 행먼저 추출해야함\n",
        "\n",
        "\n"
      ]
    },
    {
      "cell_type": "code",
      "execution_count": null,
      "metadata": {
        "colab": {
          "background_save": true
        },
        "collapsed": true,
        "id": "NgaW1uWvZ1xS"
      },
      "outputs": [],
      "source": [
        "#수학점수가 50점 이상인 학생의 id와 math 변수 추출\n",
        "exam.query('math >= 50')[['id','math']] #리스트로 들어가야함"
      ]
    },
    {
      "cell_type": "code",
      "execution_count": null,
      "metadata": {
        "colab": {
          "background_save": true
        },
        "collapsed": true,
        "id": "frpiMMhBdoK0"
      },
      "outputs": [],
      "source": [
        "#파생변수 추가하기\n",
        "import pandas as pd\n",
        "\n",
        "exam=exam.assign(total= lambda x  : (x['math']+x['english']+x['science']) /3)\n",
        "exam"
      ]
    },
    {
      "cell_type": "code",
      "execution_count": null,
      "metadata": {
        "colab": {
          "background_save": true
        },
        "id": "uG8-eaZReZ_A"
      },
      "outputs": [],
      "source": [
        "#집단별로 요약하기\n",
        "\n",
        "exam=pd.read_csv(path)\n",
        "\n",
        "exam.agg(mean_math=('math','mean'))  # exam.agg(변수명=(column, 함수)) - column의 mean(평균)을 구해서 새변수에 할당하겠다"
      ]
    },
    {
      "cell_type": "code",
      "execution_count": null,
      "metadata": {
        "colab": {
          "background_save": true
        },
        "id": "1fikgkSYgI3j"
      },
      "outputs": [],
      "source": [
        "#각 분반별로 수학점수의 평균, 합계, 중앙값, 학생수 구하기\n",
        "#여러개 쓸려면 .agg(변수명=(column명,함수))\n",
        "\n",
        "exam\n",
        "a=exam.groupby('nclass').agg(mean_math=('math','mean'),sum_math=('math','sum'),median_math=('math','median'),n=('math','count'))\n",
        "a"
      ]
    },
    {
      "cell_type": "code",
      "execution_count": null,
      "metadata": {
        "colab": {
          "background_save": true
        },
        "id": "rl1oFZ5ujIHs"
      },
      "outputs": [],
      "source": [
        "#집단별로 다시 나누기 mpg.csv\n",
        "\n",
        "import pandas as pd\n",
        "from google.colab import files\n",
        "uploaded= files.upload()"
      ]
    },
    {
      "cell_type": "code",
      "execution_count": null,
      "metadata": {
        "colab": {
          "background_save": true
        },
        "collapsed": true,
        "id": "781Wxt6VjYry"
      },
      "outputs": [],
      "source": [
        "import pandas as pd\n",
        "path='/content/mpg.csv'\n",
        "mpg=pd.read_csv(path)\n",
        "mpg.groupby(['manufacturer','drv']).agg(mean_cty=('cty','mean'))"
      ]
    },
    {
      "cell_type": "markdown",
      "metadata": {
        "id": "DH1HW7hyEf96"
      },
      "source": [
        "# 9_29 데이터 정제\n"
      ]
    },
    {
      "cell_type": "code",
      "execution_count": null,
      "metadata": {
        "colab": {
          "background_save": true
        },
        "id": "0OAXokzxEpQD"
      },
      "outputs": [],
      "source": [
        "import pandas as pd\n",
        "from google.colab import files\n",
        "uploaded= files.upload()"
      ]
    },
    {
      "cell_type": "code",
      "execution_count": null,
      "metadata": {
        "colab": {
          "background_save": true
        },
        "id": "3j5vSHaLGg-8"
      },
      "outputs": [],
      "source": [
        "import numpy as np\n",
        "path='/content/exam_missing.csv'\n",
        "test=pd.DataFrame(pd.read_csv(path))"
      ]
    },
    {
      "cell_type": "code",
      "execution_count": null,
      "metadata": {
        "colab": {
          "background_save": true
        },
        "id": "Bl9pImFBGp5x"
      },
      "outputs": [],
      "source": [
        "pd.isna(test)"
      ]
    },
    {
      "cell_type": "code",
      "execution_count": null,
      "metadata": {
        "colab": {
          "background_save": true
        },
        "id": "4UzvHTwVIPB-"
      },
      "outputs": [],
      "source": [
        "pd.isna(test).sum()"
      ]
    },
    {
      "cell_type": "code",
      "execution_count": null,
      "metadata": {
        "colab": {
          "background_save": true
        },
        "id": "NxfX5i_aJwn9"
      },
      "outputs": [],
      "source": [
        "test.dropna() #결측치가 없는 데이터만 추출"
      ]
    },
    {
      "cell_type": "code",
      "execution_count": null,
      "metadata": {
        "colab": {
          "background_save": true
        },
        "collapsed": true,
        "id": "wyU7U2YBKp7Y"
      },
      "outputs": [],
      "source": [
        "math_mean=test['math'].mean()\n",
        "test['math']=test['math'].fillna(math_mean)\n",
        "test"
      ]
    },
    {
      "cell_type": "code",
      "execution_count": null,
      "metadata": {
        "colab": {
          "background_save": true
        },
        "collapsed": true,
        "id": "I-1fDdxqMKHY"
      },
      "outputs": [],
      "source": [
        "#이상치를 결측치로 변환하기 (where 이용)\n",
        "\n",
        "max_score=100\n",
        "test['math']=np.where(test['math']>max_score,np.nan,test['math'])\n",
        "test"
      ]
    },
    {
      "cell_type": "code",
      "execution_count": null,
      "metadata": {
        "colab": {
          "background_save": true
        },
        "id": "jEt80_gcNwxt"
      },
      "outputs": [],
      "source": [
        "#이상치와 결측치를 제거하고 분반별로 수학 점수의 평균값 구하기\n",
        "max_score=100\n",
        "test['math']=np.where(test['math']>max_score,np.nan,test['math'])\n",
        "test.dropna(subset=['math']) #math 데이터 한정 결측치제거\n",
        "\n",
        "test.groupby('nclass').agg(mean_math=('math','mean')) #math 라는 함수를 mean 함수적용한다"
      ]
    },
    {
      "cell_type": "markdown",
      "metadata": {
        "id": "VGUOez6pwue_"
      },
      "source": []
    },
    {
      "cell_type": "markdown",
      "source": [
        "# 10_1 데이터 크롤링"
      ],
      "metadata": {
        "id": "MNKJG7hxX4Y2"
      }
    },
    {
      "cell_type": "code",
      "source": [
        "#명언집 url 불러오기\n",
        "\n",
        "import requests\n",
        "\n",
        "url=\"https://quotes.toscrape.com/page/1/\"\n",
        "response=requests.get(url)\n",
        "\n",
        "print(\"상태코드:\",response.status_code)\n",
        "print(response.text[:500])"
      ],
      "metadata": {
        "colab": {
          "base_uri": "https://localhost:8080/"
        },
        "collapsed": true,
        "id": "l-aB89j8YC0R",
        "outputId": "12bf6027-79db-4b17-83a8-268266798adf"
      },
      "execution_count": 4,
      "outputs": [
        {
          "output_type": "stream",
          "name": "stdout",
          "text": [
            "상태코드: 200\n",
            "<!DOCTYPE html>\n",
            "<html lang=\"en\">\n",
            "<head>\n",
            "\t<meta charset=\"UTF-8\">\n",
            "\t<title>Quotes to Scrape</title>\n",
            "    <link rel=\"stylesheet\" href=\"/static/bootstrap.min.css\">\n",
            "    <link rel=\"stylesheet\" href=\"/static/main.css\">\n",
            "    \n",
            "    \n",
            "</head>\n",
            "<body>\n",
            "    <div class=\"container\">\n",
            "        <div class=\"row header-box\">\n",
            "            <div class=\"col-md-8\">\n",
            "                <h1>\n",
            "                    <a href=\"/\" style=\"text-decoration: none\">Quotes to Scrape</a>\n",
            "                </h1>\n",
            "            </div>\n",
            "            <div cla\n"
          ]
        }
      ]
    },
    {
      "cell_type": "code",
      "source": [
        "#beautifulsoup 으로 파싱하기\n",
        "\n",
        "from bs4 import BeautifulSoup\n",
        "\n",
        "soup=BeautifulSoup(response.text,'lxml')\n",
        "quotes=soup.select('.quote')\n",
        "\n",
        "for q in quotes:\n",
        "  text=q.select_one('.text').get_text()\n",
        "  author=q.select_one('.author').get_text()\n",
        "  print(text,\"-\",author)\n"
      ],
      "metadata": {
        "collapsed": true,
        "id": "_-ONlvYYdxs8"
      },
      "execution_count": null,
      "outputs": []
    },
    {
      "cell_type": "code",
      "source": [
        "#데이터프레임으로 정리하고 csv로 저장하기\n",
        "\n",
        "import pandas as pd\n",
        "\n",
        "data=[]\n",
        "for q in soup.select('.quote'):\n",
        "  data.append({'text': q.select_one('.text').get_text(strip=True), #row를 추가하는 방식(실무에 유용)\n",
        "               'author': q.select_one('.author').get_text(strip=True)})\n",
        "df=pd.DataFrame(data)\n",
        "df.to_csv('quotes_page1.csv',index=False, encoding='utf-8-sig')\n",
        "df"
      ],
      "metadata": {
        "colab": {
          "base_uri": "https://localhost:8080/",
          "height": 363
        },
        "collapsed": true,
        "id": "x4FviaVhhhAg",
        "outputId": "c87c5fdc-7cf3-4af2-c9e6-896c8b77b858"
      },
      "execution_count": 8,
      "outputs": [
        {
          "output_type": "execute_result",
          "data": {
            "text/plain": [
              "                                                text             author\n",
              "0  “The world as we have created it is a process ...    Albert Einstein\n",
              "1  “It is our choices, Harry, that show what we t...       J.K. Rowling\n",
              "2  “There are only two ways to live your life. On...    Albert Einstein\n",
              "3  “The person, be it gentleman or lady, who has ...        Jane Austen\n",
              "4  “Imperfection is beauty, madness is genius and...     Marilyn Monroe\n",
              "5  “Try not to become a man of success. Rather be...    Albert Einstein\n",
              "6  “It is better to be hated for what you are tha...         André Gide\n",
              "7  “I have not failed. I've just found 10,000 way...   Thomas A. Edison\n",
              "8  “A woman is like a tea bag; you never know how...  Eleanor Roosevelt\n",
              "9  “A day without sunshine is like, you know, nig...       Steve Martin"
            ],
            "text/html": [
              "\n",
              "  <div id=\"df-85b5bc42-caab-468e-a793-d90368479cbc\" class=\"colab-df-container\">\n",
              "    <div>\n",
              "<style scoped>\n",
              "    .dataframe tbody tr th:only-of-type {\n",
              "        vertical-align: middle;\n",
              "    }\n",
              "\n",
              "    .dataframe tbody tr th {\n",
              "        vertical-align: top;\n",
              "    }\n",
              "\n",
              "    .dataframe thead th {\n",
              "        text-align: right;\n",
              "    }\n",
              "</style>\n",
              "<table border=\"1\" class=\"dataframe\">\n",
              "  <thead>\n",
              "    <tr style=\"text-align: right;\">\n",
              "      <th></th>\n",
              "      <th>text</th>\n",
              "      <th>author</th>\n",
              "    </tr>\n",
              "  </thead>\n",
              "  <tbody>\n",
              "    <tr>\n",
              "      <th>0</th>\n",
              "      <td>“The world as we have created it is a process ...</td>\n",
              "      <td>Albert Einstein</td>\n",
              "    </tr>\n",
              "    <tr>\n",
              "      <th>1</th>\n",
              "      <td>“It is our choices, Harry, that show what we t...</td>\n",
              "      <td>J.K. Rowling</td>\n",
              "    </tr>\n",
              "    <tr>\n",
              "      <th>2</th>\n",
              "      <td>“There are only two ways to live your life. On...</td>\n",
              "      <td>Albert Einstein</td>\n",
              "    </tr>\n",
              "    <tr>\n",
              "      <th>3</th>\n",
              "      <td>“The person, be it gentleman or lady, who has ...</td>\n",
              "      <td>Jane Austen</td>\n",
              "    </tr>\n",
              "    <tr>\n",
              "      <th>4</th>\n",
              "      <td>“Imperfection is beauty, madness is genius and...</td>\n",
              "      <td>Marilyn Monroe</td>\n",
              "    </tr>\n",
              "    <tr>\n",
              "      <th>5</th>\n",
              "      <td>“Try not to become a man of success. Rather be...</td>\n",
              "      <td>Albert Einstein</td>\n",
              "    </tr>\n",
              "    <tr>\n",
              "      <th>6</th>\n",
              "      <td>“It is better to be hated for what you are tha...</td>\n",
              "      <td>André Gide</td>\n",
              "    </tr>\n",
              "    <tr>\n",
              "      <th>7</th>\n",
              "      <td>“I have not failed. I've just found 10,000 way...</td>\n",
              "      <td>Thomas A. Edison</td>\n",
              "    </tr>\n",
              "    <tr>\n",
              "      <th>8</th>\n",
              "      <td>“A woman is like a tea bag; you never know how...</td>\n",
              "      <td>Eleanor Roosevelt</td>\n",
              "    </tr>\n",
              "    <tr>\n",
              "      <th>9</th>\n",
              "      <td>“A day without sunshine is like, you know, nig...</td>\n",
              "      <td>Steve Martin</td>\n",
              "    </tr>\n",
              "  </tbody>\n",
              "</table>\n",
              "</div>\n",
              "    <div class=\"colab-df-buttons\">\n",
              "\n",
              "  <div class=\"colab-df-container\">\n",
              "    <button class=\"colab-df-convert\" onclick=\"convertToInteractive('df-85b5bc42-caab-468e-a793-d90368479cbc')\"\n",
              "            title=\"Convert this dataframe to an interactive table.\"\n",
              "            style=\"display:none;\">\n",
              "\n",
              "  <svg xmlns=\"http://www.w3.org/2000/svg\" height=\"24px\" viewBox=\"0 -960 960 960\">\n",
              "    <path d=\"M120-120v-720h720v720H120Zm60-500h600v-160H180v160Zm220 220h160v-160H400v160Zm0 220h160v-160H400v160ZM180-400h160v-160H180v160Zm440 0h160v-160H620v160ZM180-180h160v-160H180v160Zm440 0h160v-160H620v160Z\"/>\n",
              "  </svg>\n",
              "    </button>\n",
              "\n",
              "  <style>\n",
              "    .colab-df-container {\n",
              "      display:flex;\n",
              "      gap: 12px;\n",
              "    }\n",
              "\n",
              "    .colab-df-convert {\n",
              "      background-color: #E8F0FE;\n",
              "      border: none;\n",
              "      border-radius: 50%;\n",
              "      cursor: pointer;\n",
              "      display: none;\n",
              "      fill: #1967D2;\n",
              "      height: 32px;\n",
              "      padding: 0 0 0 0;\n",
              "      width: 32px;\n",
              "    }\n",
              "\n",
              "    .colab-df-convert:hover {\n",
              "      background-color: #E2EBFA;\n",
              "      box-shadow: 0px 1px 2px rgba(60, 64, 67, 0.3), 0px 1px 3px 1px rgba(60, 64, 67, 0.15);\n",
              "      fill: #174EA6;\n",
              "    }\n",
              "\n",
              "    .colab-df-buttons div {\n",
              "      margin-bottom: 4px;\n",
              "    }\n",
              "\n",
              "    [theme=dark] .colab-df-convert {\n",
              "      background-color: #3B4455;\n",
              "      fill: #D2E3FC;\n",
              "    }\n",
              "\n",
              "    [theme=dark] .colab-df-convert:hover {\n",
              "      background-color: #434B5C;\n",
              "      box-shadow: 0px 1px 3px 1px rgba(0, 0, 0, 0.15);\n",
              "      filter: drop-shadow(0px 1px 2px rgba(0, 0, 0, 0.3));\n",
              "      fill: #FFFFFF;\n",
              "    }\n",
              "  </style>\n",
              "\n",
              "    <script>\n",
              "      const buttonEl =\n",
              "        document.querySelector('#df-85b5bc42-caab-468e-a793-d90368479cbc button.colab-df-convert');\n",
              "      buttonEl.style.display =\n",
              "        google.colab.kernel.accessAllowed ? 'block' : 'none';\n",
              "\n",
              "      async function convertToInteractive(key) {\n",
              "        const element = document.querySelector('#df-85b5bc42-caab-468e-a793-d90368479cbc');\n",
              "        const dataTable =\n",
              "          await google.colab.kernel.invokeFunction('convertToInteractive',\n",
              "                                                    [key], {});\n",
              "        if (!dataTable) return;\n",
              "\n",
              "        const docLinkHtml = 'Like what you see? Visit the ' +\n",
              "          '<a target=\"_blank\" href=https://colab.research.google.com/notebooks/data_table.ipynb>data table notebook</a>'\n",
              "          + ' to learn more about interactive tables.';\n",
              "        element.innerHTML = '';\n",
              "        dataTable['output_type'] = 'display_data';\n",
              "        await google.colab.output.renderOutput(dataTable, element);\n",
              "        const docLink = document.createElement('div');\n",
              "        docLink.innerHTML = docLinkHtml;\n",
              "        element.appendChild(docLink);\n",
              "      }\n",
              "    </script>\n",
              "  </div>\n",
              "\n",
              "\n",
              "    <div id=\"df-281fcab8-b6e9-49c9-8462-40b931eb270c\">\n",
              "      <button class=\"colab-df-quickchart\" onclick=\"quickchart('df-281fcab8-b6e9-49c9-8462-40b931eb270c')\"\n",
              "                title=\"Suggest charts\"\n",
              "                style=\"display:none;\">\n",
              "\n",
              "<svg xmlns=\"http://www.w3.org/2000/svg\" height=\"24px\"viewBox=\"0 0 24 24\"\n",
              "     width=\"24px\">\n",
              "    <g>\n",
              "        <path d=\"M19 3H5c-1.1 0-2 .9-2 2v14c0 1.1.9 2 2 2h14c1.1 0 2-.9 2-2V5c0-1.1-.9-2-2-2zM9 17H7v-7h2v7zm4 0h-2V7h2v10zm4 0h-2v-4h2v4z\"/>\n",
              "    </g>\n",
              "</svg>\n",
              "      </button>\n",
              "\n",
              "<style>\n",
              "  .colab-df-quickchart {\n",
              "      --bg-color: #E8F0FE;\n",
              "      --fill-color: #1967D2;\n",
              "      --hover-bg-color: #E2EBFA;\n",
              "      --hover-fill-color: #174EA6;\n",
              "      --disabled-fill-color: #AAA;\n",
              "      --disabled-bg-color: #DDD;\n",
              "  }\n",
              "\n",
              "  [theme=dark] .colab-df-quickchart {\n",
              "      --bg-color: #3B4455;\n",
              "      --fill-color: #D2E3FC;\n",
              "      --hover-bg-color: #434B5C;\n",
              "      --hover-fill-color: #FFFFFF;\n",
              "      --disabled-bg-color: #3B4455;\n",
              "      --disabled-fill-color: #666;\n",
              "  }\n",
              "\n",
              "  .colab-df-quickchart {\n",
              "    background-color: var(--bg-color);\n",
              "    border: none;\n",
              "    border-radius: 50%;\n",
              "    cursor: pointer;\n",
              "    display: none;\n",
              "    fill: var(--fill-color);\n",
              "    height: 32px;\n",
              "    padding: 0;\n",
              "    width: 32px;\n",
              "  }\n",
              "\n",
              "  .colab-df-quickchart:hover {\n",
              "    background-color: var(--hover-bg-color);\n",
              "    box-shadow: 0 1px 2px rgba(60, 64, 67, 0.3), 0 1px 3px 1px rgba(60, 64, 67, 0.15);\n",
              "    fill: var(--button-hover-fill-color);\n",
              "  }\n",
              "\n",
              "  .colab-df-quickchart-complete:disabled,\n",
              "  .colab-df-quickchart-complete:disabled:hover {\n",
              "    background-color: var(--disabled-bg-color);\n",
              "    fill: var(--disabled-fill-color);\n",
              "    box-shadow: none;\n",
              "  }\n",
              "\n",
              "  .colab-df-spinner {\n",
              "    border: 2px solid var(--fill-color);\n",
              "    border-color: transparent;\n",
              "    border-bottom-color: var(--fill-color);\n",
              "    animation:\n",
              "      spin 1s steps(1) infinite;\n",
              "  }\n",
              "\n",
              "  @keyframes spin {\n",
              "    0% {\n",
              "      border-color: transparent;\n",
              "      border-bottom-color: var(--fill-color);\n",
              "      border-left-color: var(--fill-color);\n",
              "    }\n",
              "    20% {\n",
              "      border-color: transparent;\n",
              "      border-left-color: var(--fill-color);\n",
              "      border-top-color: var(--fill-color);\n",
              "    }\n",
              "    30% {\n",
              "      border-color: transparent;\n",
              "      border-left-color: var(--fill-color);\n",
              "      border-top-color: var(--fill-color);\n",
              "      border-right-color: var(--fill-color);\n",
              "    }\n",
              "    40% {\n",
              "      border-color: transparent;\n",
              "      border-right-color: var(--fill-color);\n",
              "      border-top-color: var(--fill-color);\n",
              "    }\n",
              "    60% {\n",
              "      border-color: transparent;\n",
              "      border-right-color: var(--fill-color);\n",
              "    }\n",
              "    80% {\n",
              "      border-color: transparent;\n",
              "      border-right-color: var(--fill-color);\n",
              "      border-bottom-color: var(--fill-color);\n",
              "    }\n",
              "    90% {\n",
              "      border-color: transparent;\n",
              "      border-bottom-color: var(--fill-color);\n",
              "    }\n",
              "  }\n",
              "</style>\n",
              "\n",
              "      <script>\n",
              "        async function quickchart(key) {\n",
              "          const quickchartButtonEl =\n",
              "            document.querySelector('#' + key + ' button');\n",
              "          quickchartButtonEl.disabled = true;  // To prevent multiple clicks.\n",
              "          quickchartButtonEl.classList.add('colab-df-spinner');\n",
              "          try {\n",
              "            const charts = await google.colab.kernel.invokeFunction(\n",
              "                'suggestCharts', [key], {});\n",
              "          } catch (error) {\n",
              "            console.error('Error during call to suggestCharts:', error);\n",
              "          }\n",
              "          quickchartButtonEl.classList.remove('colab-df-spinner');\n",
              "          quickchartButtonEl.classList.add('colab-df-quickchart-complete');\n",
              "        }\n",
              "        (() => {\n",
              "          let quickchartButtonEl =\n",
              "            document.querySelector('#df-281fcab8-b6e9-49c9-8462-40b931eb270c button');\n",
              "          quickchartButtonEl.style.display =\n",
              "            google.colab.kernel.accessAllowed ? 'block' : 'none';\n",
              "        })();\n",
              "      </script>\n",
              "    </div>\n",
              "\n",
              "  <div id=\"id_292202df-8d7e-4c44-8d45-736622de1e6f\">\n",
              "    <style>\n",
              "      .colab-df-generate {\n",
              "        background-color: #E8F0FE;\n",
              "        border: none;\n",
              "        border-radius: 50%;\n",
              "        cursor: pointer;\n",
              "        display: none;\n",
              "        fill: #1967D2;\n",
              "        height: 32px;\n",
              "        padding: 0 0 0 0;\n",
              "        width: 32px;\n",
              "      }\n",
              "\n",
              "      .colab-df-generate:hover {\n",
              "        background-color: #E2EBFA;\n",
              "        box-shadow: 0px 1px 2px rgba(60, 64, 67, 0.3), 0px 1px 3px 1px rgba(60, 64, 67, 0.15);\n",
              "        fill: #174EA6;\n",
              "      }\n",
              "\n",
              "      [theme=dark] .colab-df-generate {\n",
              "        background-color: #3B4455;\n",
              "        fill: #D2E3FC;\n",
              "      }\n",
              "\n",
              "      [theme=dark] .colab-df-generate:hover {\n",
              "        background-color: #434B5C;\n",
              "        box-shadow: 0px 1px 3px 1px rgba(0, 0, 0, 0.15);\n",
              "        filter: drop-shadow(0px 1px 2px rgba(0, 0, 0, 0.3));\n",
              "        fill: #FFFFFF;\n",
              "      }\n",
              "    </style>\n",
              "    <button class=\"colab-df-generate\" onclick=\"generateWithVariable('df')\"\n",
              "            title=\"Generate code using this dataframe.\"\n",
              "            style=\"display:none;\">\n",
              "\n",
              "  <svg xmlns=\"http://www.w3.org/2000/svg\" height=\"24px\"viewBox=\"0 0 24 24\"\n",
              "       width=\"24px\">\n",
              "    <path d=\"M7,19H8.4L18.45,9,17,7.55,7,17.6ZM5,21V16.75L18.45,3.32a2,2,0,0,1,2.83,0l1.4,1.43a1.91,1.91,0,0,1,.58,1.4,1.91,1.91,0,0,1-.58,1.4L9.25,21ZM18.45,9,17,7.55Zm-12,3A5.31,5.31,0,0,0,4.9,8.1,5.31,5.31,0,0,0,1,6.5,5.31,5.31,0,0,0,4.9,4.9,5.31,5.31,0,0,0,6.5,1,5.31,5.31,0,0,0,8.1,4.9,5.31,5.31,0,0,0,12,6.5,5.46,5.46,0,0,0,6.5,12Z\"/>\n",
              "  </svg>\n",
              "    </button>\n",
              "    <script>\n",
              "      (() => {\n",
              "      const buttonEl =\n",
              "        document.querySelector('#id_292202df-8d7e-4c44-8d45-736622de1e6f button.colab-df-generate');\n",
              "      buttonEl.style.display =\n",
              "        google.colab.kernel.accessAllowed ? 'block' : 'none';\n",
              "\n",
              "      buttonEl.onclick = () => {\n",
              "        google.colab.notebook.generateWithVariable('df');\n",
              "      }\n",
              "      })();\n",
              "    </script>\n",
              "  </div>\n",
              "\n",
              "    </div>\n",
              "  </div>\n"
            ],
            "application/vnd.google.colaboratory.intrinsic+json": {
              "type": "dataframe",
              "variable_name": "df",
              "summary": "{\n  \"name\": \"df\",\n  \"rows\": 10,\n  \"fields\": [\n    {\n      \"column\": \"text\",\n      \"properties\": {\n        \"dtype\": \"string\",\n        \"num_unique_values\": 10,\n        \"samples\": [\n          \"\\u201cA woman is like a tea bag; you never know how strong it is until it's in hot water.\\u201d\",\n          \"\\u201cIt is our choices, Harry, that show what we truly are, far more than our abilities.\\u201d\",\n          \"\\u201cTry not to become a man of success. Rather become a man of value.\\u201d\"\n        ],\n        \"semantic_type\": \"\",\n        \"description\": \"\"\n      }\n    },\n    {\n      \"column\": \"author\",\n      \"properties\": {\n        \"dtype\": \"string\",\n        \"num_unique_values\": 8,\n        \"samples\": [\n          \"J.K. Rowling\",\n          \"Thomas A. Edison\",\n          \"Albert Einstein\"\n        ],\n        \"semantic_type\": \"\",\n        \"description\": \"\"\n      }\n    }\n  ]\n}"
            }
          },
          "metadata": {},
          "execution_count": 8
        }
      ]
    },
    {
      "cell_type": "markdown",
      "source": [
        "시험팁= 전체적으로 공부하기"
      ],
      "metadata": {
        "id": "ZPf9YozQibKu"
      }
    },
    {
      "cell_type": "code",
      "source": [
        "#여러 페이지 크롤링\n",
        "#urljoin = url을 여러개 가져와줌\n",
        "\n",
        "from urllib.parse import urljoin\n",
        "import time\n",
        "base=\"https://quotes.toscrape.com\"\n",
        "next_url=\"/page/1/\"\n",
        "all_data=[]\n",
        "while next_url:\n",
        "  html=requests.get(urljoin(base,next_url)).text\n",
        "  soup=BeautifulSoup(html,'lxml')\n",
        "  for q in soup.select('.quote'):\n",
        "    all_data.append({\n",
        "        'text':q.select_one('.text').get_text(strip=True),\n",
        "        'author':q.select_one('.author').get_text(strip=True), # Added comma here\n",
        "        'tags':[t.get_text(strip=True) for t in q.select('.tag')]\n",
        "    })\n",
        "    nxt=soup.select_one('li.next> a')\n",
        "    next_url=nxt['href'] if nxt else None\n",
        "    time.sleep(1)\n",
        "\n",
        "len(all_data)"
      ],
      "metadata": {
        "colab": {
          "base_uri": "https://localhost:8080/"
        },
        "id": "MIsceaWNirnf",
        "outputId": "6967adad-946c-4301-8994-88017fdb05b5"
      },
      "execution_count": 14,
      "outputs": [
        {
          "output_type": "execute_result",
          "data": {
            "text/plain": [
              "100"
            ]
          },
          "metadata": {},
          "execution_count": 14
        }
      ]
    },
    {
      "cell_type": "code",
      "source": [
        "#명언이 많은 상위 7명의 저자와 저자의 명언수 구하기\n",
        "#전체 페이지 크롤링해서 all_data에 담겨있다고 저장\n",
        "\n",
        "df= pd.DataFrame(all_data)\n",
        "\n",
        "df['author'].value_counts().head(7) # 상위 7명\n"
      ],
      "metadata": {
        "colab": {
          "base_uri": "https://localhost:8080/",
          "height": 335
        },
        "id": "SBDqgxZ4mkUg",
        "outputId": "25a7475c-97e7-433f-d973-5c45476d0824"
      },
      "execution_count": 15,
      "outputs": [
        {
          "output_type": "execute_result",
          "data": {
            "text/plain": [
              "author\n",
              "Albert Einstein    10\n",
              "J.K. Rowling        9\n",
              "Marilyn Monroe      7\n",
              "Dr. Seuss           6\n",
              "Mark Twain          6\n",
              "Jane Austen         5\n",
              "C.S. Lewis          5\n",
              "Name: count, dtype: int64"
            ],
            "text/html": [
              "<div>\n",
              "<style scoped>\n",
              "    .dataframe tbody tr th:only-of-type {\n",
              "        vertical-align: middle;\n",
              "    }\n",
              "\n",
              "    .dataframe tbody tr th {\n",
              "        vertical-align: top;\n",
              "    }\n",
              "\n",
              "    .dataframe thead th {\n",
              "        text-align: right;\n",
              "    }\n",
              "</style>\n",
              "<table border=\"1\" class=\"dataframe\">\n",
              "  <thead>\n",
              "    <tr style=\"text-align: right;\">\n",
              "      <th></th>\n",
              "      <th>count</th>\n",
              "    </tr>\n",
              "    <tr>\n",
              "      <th>author</th>\n",
              "      <th></th>\n",
              "    </tr>\n",
              "  </thead>\n",
              "  <tbody>\n",
              "    <tr>\n",
              "      <th>Albert Einstein</th>\n",
              "      <td>10</td>\n",
              "    </tr>\n",
              "    <tr>\n",
              "      <th>J.K. Rowling</th>\n",
              "      <td>9</td>\n",
              "    </tr>\n",
              "    <tr>\n",
              "      <th>Marilyn Monroe</th>\n",
              "      <td>7</td>\n",
              "    </tr>\n",
              "    <tr>\n",
              "      <th>Dr. Seuss</th>\n",
              "      <td>6</td>\n",
              "    </tr>\n",
              "    <tr>\n",
              "      <th>Mark Twain</th>\n",
              "      <td>6</td>\n",
              "    </tr>\n",
              "    <tr>\n",
              "      <th>Jane Austen</th>\n",
              "      <td>5</td>\n",
              "    </tr>\n",
              "    <tr>\n",
              "      <th>C.S. Lewis</th>\n",
              "      <td>5</td>\n",
              "    </tr>\n",
              "  </tbody>\n",
              "</table>\n",
              "</div><br><label><b>dtype:</b> int64</label>"
            ]
          },
          "metadata": {},
          "execution_count": 15
        }
      ]
    }
  ],
  "metadata": {
    "colab": {
      "provenance": [],
      "mount_file_id": "14w3IawOQx9mIthCj8QZxGpWYvBHQ6xkR",
      "authorship_tag": "ABX9TyPAhmM+q2ArkgFX7ARlsv50",
      "include_colab_link": true
    },
    "kernelspec": {
      "display_name": "Python 3",
      "name": "python3"
    },
    "language_info": {
      "name": "python"
    }
  },
  "nbformat": 4,
  "nbformat_minor": 0
}